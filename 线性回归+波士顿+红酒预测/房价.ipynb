{
 "cells": [
  {
   "cell_type": "code",
   "execution_count": 1,
   "id": "17445f10-1dc8-448c-a8f8-86db2ead805f",
   "metadata": {
    "execution": {
     "iopub.execute_input": "2024-09-13T03:27:44.641413Z",
     "iopub.status.busy": "2024-09-13T03:27:44.640278Z",
     "iopub.status.idle": "2024-09-13T03:27:45.260511Z",
     "shell.execute_reply": "2024-09-13T03:27:45.259706Z",
     "shell.execute_reply.started": "2024-09-13T03:27:44.641376Z"
    },
    "scrolled": true
   },
   "outputs": [
    {
     "data": {
      "text/html": [
       "<div>\n",
       "<style scoped>\n",
       "    .dataframe tbody tr th:only-of-type {\n",
       "        vertical-align: middle;\n",
       "    }\n",
       "\n",
       "    .dataframe tbody tr th {\n",
       "        vertical-align: top;\n",
       "    }\n",
       "\n",
       "    .dataframe thead th {\n",
       "        text-align: right;\n",
       "    }\n",
       "</style>\n",
       "<table border=\"1\" class=\"dataframe\">\n",
       "  <thead>\n",
       "    <tr style=\"text-align: right;\">\n",
       "      <th></th>\n",
       "      <th>Unnamed: 0</th>\n",
       "      <th>小区名称</th>\n",
       "      <th>区域位置</th>\n",
       "      <th>经度</th>\n",
       "      <th>纬度</th>\n",
       "      <th>总价</th>\n",
       "      <th>单价</th>\n",
       "      <th>看房时间</th>\n",
       "      <th>链家编号</th>\n",
       "      <th>关注度</th>\n",
       "      <th>...</th>\n",
       "      <th>小区介绍</th>\n",
       "      <th>售房详情</th>\n",
       "      <th>税费解析</th>\n",
       "      <th>周边配套</th>\n",
       "      <th>用水类型</th>\n",
       "      <th>用电类型</th>\n",
       "      <th>装修描述</th>\n",
       "      <th>燃气价格</th>\n",
       "      <th>交通出行</th>\n",
       "      <th>权属抵押</th>\n",
       "    </tr>\n",
       "  </thead>\n",
       "  <tbody>\n",
       "    <tr>\n",
       "      <th>0</th>\n",
       "      <td>0</td>\n",
       "      <td>['金宇彩虹嘉都']</td>\n",
       "      <td>富阳-银湖科技城</td>\n",
       "      <td>119.941451</td>\n",
       "      <td>30.099955</td>\n",
       "      <td>260.0</td>\n",
       "      <td>12893</td>\n",
       "      <td>提前预约随时可看</td>\n",
       "      <td>1.031180e+11</td>\n",
       "      <td>2</td>\n",
       "      <td>...</td>\n",
       "      <td>NaN</td>\n",
       "      <td>NaN</td>\n",
       "      <td>NaN</td>\n",
       "      <td>NaN</td>\n",
       "      <td>NaN</td>\n",
       "      <td>NaN</td>\n",
       "      <td>NaN</td>\n",
       "      <td>NaN</td>\n",
       "      <td>NaN</td>\n",
       "      <td>NaN</td>\n",
       "    </tr>\n",
       "    <tr>\n",
       "      <th>1</th>\n",
       "      <td>1</td>\n",
       "      <td>['紫云山庄']</td>\n",
       "      <td>富阳-银湖科技城</td>\n",
       "      <td>120.004132</td>\n",
       "      <td>30.149110</td>\n",
       "      <td>550.0</td>\n",
       "      <td>31343</td>\n",
       "      <td>提前预约随时可看</td>\n",
       "      <td>1.031180e+11</td>\n",
       "      <td>21</td>\n",
       "      <td>...</td>\n",
       "      <td>NaN</td>\n",
       "      <td>NaN</td>\n",
       "      <td>NaN</td>\n",
       "      <td>NaN</td>\n",
       "      <td>NaN</td>\n",
       "      <td>NaN</td>\n",
       "      <td>NaN</td>\n",
       "      <td>NaN</td>\n",
       "      <td>NaN</td>\n",
       "      <td>NaN</td>\n",
       "    </tr>\n",
       "    <tr>\n",
       "      <th>2</th>\n",
       "      <td>2</td>\n",
       "      <td>['绿城富春和园']</td>\n",
       "      <td>富阳-富春</td>\n",
       "      <td>119.936624</td>\n",
       "      <td>30.068184</td>\n",
       "      <td>458.0</td>\n",
       "      <td>27375</td>\n",
       "      <td>提前预约随时可看</td>\n",
       "      <td>1.031180e+11</td>\n",
       "      <td>0</td>\n",
       "      <td>...</td>\n",
       "      <td>\\n                    此房四房两厅两卫，户型方正，三开间朝南，两房朝南...</td>\n",
       "      <td>NaN</td>\n",
       "      <td>NaN</td>\n",
       "      <td>NaN</td>\n",
       "      <td>NaN</td>\n",
       "      <td>NaN</td>\n",
       "      <td>NaN</td>\n",
       "      <td>NaN</td>\n",
       "      <td>NaN</td>\n",
       "      <td>NaN</td>\n",
       "    </tr>\n",
       "    <tr>\n",
       "      <th>3</th>\n",
       "      <td>3</td>\n",
       "      <td>['逸城']</td>\n",
       "      <td>富阳-东洲</td>\n",
       "      <td>120.044599</td>\n",
       "      <td>30.084626</td>\n",
       "      <td>305.0</td>\n",
       "      <td>14027</td>\n",
       "      <td>提前预约随时可看</td>\n",
       "      <td>1.031090e+11</td>\n",
       "      <td>46</td>\n",
       "      <td>...</td>\n",
       "      <td>\\n                    房龄：2008年，产权70年产权。户型正气 一层...</td>\n",
       "      <td>NaN</td>\n",
       "      <td>NaN</td>\n",
       "      <td>NaN</td>\n",
       "      <td>NaN</td>\n",
       "      <td>NaN</td>\n",
       "      <td>NaN</td>\n",
       "      <td>NaN</td>\n",
       "      <td>NaN</td>\n",
       "      <td>NaN</td>\n",
       "    </tr>\n",
       "    <tr>\n",
       "      <th>4</th>\n",
       "      <td>4</td>\n",
       "      <td>['万安秀水山庄']</td>\n",
       "      <td>富阳-银湖科技城</td>\n",
       "      <td>120.000894</td>\n",
       "      <td>30.148066</td>\n",
       "      <td>900.0</td>\n",
       "      <td>30925</td>\n",
       "      <td>提前预约随时可看</td>\n",
       "      <td>1.031140e+11</td>\n",
       "      <td>9</td>\n",
       "      <td>...</td>\n",
       "      <td>\\n                    由于房东房产有多处，现在诚心出售此房，寻找有缘人...</td>\n",
       "      <td>\\n                    税费金额，满五年（免增值税）只有契税、个人所得税...</td>\n",
       "      <td>\\n                    受降镇幼儿园：浙江新世纪贸易专修学院：杭富*市医...</td>\n",
       "      <td>NaN</td>\n",
       "      <td>NaN</td>\n",
       "      <td>NaN</td>\n",
       "      <td>NaN</td>\n",
       "      <td>NaN</td>\n",
       "      <td>NaN</td>\n",
       "      <td>NaN</td>\n",
       "    </tr>\n",
       "  </tbody>\n",
       "</table>\n",
       "<p>5 rows × 45 columns</p>\n",
       "</div>"
      ],
      "text/plain": [
       "   Unnamed: 0        小区名称      区域位置          经度         纬度     总价     单价  \\\n",
       "0           0  ['金宇彩虹嘉都']  富阳-银湖科技城  119.941451  30.099955  260.0  12893   \n",
       "1           1    ['紫云山庄']  富阳-银湖科技城  120.004132  30.149110  550.0  31343   \n",
       "2           2  ['绿城富春和园']     富阳-富春  119.936624  30.068184  458.0  27375   \n",
       "3           3      ['逸城']     富阳-东洲  120.044599  30.084626  305.0  14027   \n",
       "4           4  ['万安秀水山庄']  富阳-银湖科技城  120.000894  30.148066  900.0  30925   \n",
       "\n",
       "       看房时间          链家编号  关注度  ...  \\\n",
       "0  提前预约随时可看  1.031180e+11    2  ...   \n",
       "1  提前预约随时可看  1.031180e+11   21  ...   \n",
       "2  提前预约随时可看  1.031180e+11    0  ...   \n",
       "3  提前预约随时可看  1.031090e+11   46  ...   \n",
       "4  提前预约随时可看  1.031140e+11    9  ...   \n",
       "\n",
       "                                                小区介绍  \\\n",
       "0                                                NaN   \n",
       "1                                                NaN   \n",
       "2  \\n                    此房四房两厅两卫，户型方正，三开间朝南，两房朝南...   \n",
       "3  \\n                    房龄：2008年，产权70年产权。户型正气 一层...   \n",
       "4  \\n                    由于房东房产有多处，现在诚心出售此房，寻找有缘人...   \n",
       "\n",
       "                                                售房详情  \\\n",
       "0                                                NaN   \n",
       "1                                                NaN   \n",
       "2                                                NaN   \n",
       "3                                                NaN   \n",
       "4  \\n                    税费金额，满五年（免增值税）只有契税、个人所得税...   \n",
       "\n",
       "                                                税费解析 周边配套 用水类型 用电类型 装修描述 燃气价格  \\\n",
       "0                                                NaN  NaN  NaN  NaN  NaN  NaN   \n",
       "1                                                NaN  NaN  NaN  NaN  NaN  NaN   \n",
       "2                                                NaN  NaN  NaN  NaN  NaN  NaN   \n",
       "3                                                NaN  NaN  NaN  NaN  NaN  NaN   \n",
       "4  \\n                    受降镇幼儿园：浙江新世纪贸易专修学院：杭富*市医...  NaN  NaN  NaN  NaN  NaN   \n",
       "\n",
       "  交通出行 权属抵押  \n",
       "0  NaN  NaN  \n",
       "1  NaN  NaN  \n",
       "2  NaN  NaN  \n",
       "3  NaN  NaN  \n",
       "4  NaN  NaN  \n",
       "\n",
       "[5 rows x 45 columns]"
      ]
     },
     "execution_count": 1,
     "metadata": {},
     "output_type": "execute_result"
    }
   ],
   "source": [
    "import pandas as pd \r\n",
    "data = pd.read_csv(\"./fuyang杭州二手房.csv\")\r\n",
    "data.head()"
   ]
  },
  {
   "cell_type": "code",
   "execution_count": 4,
   "id": "4a5d619f-226f-4f0b-a188-f367d2134649",
   "metadata": {
    "execution": {
     "iopub.execute_input": "2024-09-13T03:29:01.808008Z",
     "iopub.status.busy": "2024-09-13T03:29:01.807428Z",
     "iopub.status.idle": "2024-09-13T03:29:01.818629Z",
     "shell.execute_reply": "2024-09-13T03:29:01.817575Z",
     "shell.execute_reply.started": "2024-09-13T03:29:01.807972Z"
    },
    "scrolled": true,
    "tags": []
   },
   "outputs": [
    {
     "data": {
      "text/plain": [
       "(0       260.0\n",
       " 1       550.0\n",
       " 2       458.0\n",
       " 3       305.0\n",
       " 4       900.0\n",
       "         ...  \n",
       " 2115    143.0\n",
       " 2116     72.0\n",
       " 2117    300.0\n",
       " 2118    450.0\n",
       " 2119    190.0\n",
       " Name: 总价, Length: 2120, dtype: float64,\n",
       " 0       12893\n",
       " 1       31343\n",
       " 2       27375\n",
       " 3       14027\n",
       " 4       30925\n",
       "         ...  \n",
       " 2115    18926\n",
       " 2116    21423\n",
       " 2117    26573\n",
       " 2118    22310\n",
       " 2119    16741\n",
       " Name: 单价, Length: 2120, dtype: int64,\n",
       " 0       201.67㎡\n",
       " 1       175.48㎡\n",
       " 2       167.31㎡\n",
       " 3       217.45㎡\n",
       " 4       291.03㎡\n",
       "          ...   \n",
       " 2115     75.56㎡\n",
       " 2116     33.61㎡\n",
       " 2117     112.9㎡\n",
       " 2118    201.71㎡\n",
       " 2119     113.5㎡\n",
       " Name: 建筑面积, Length: 2120, dtype: object)"
      ]
     },
     "execution_count": 4,
     "metadata": {},
     "output_type": "execute_result"
    }
   ],
   "source": [
    "data[\"总价\"],data[\"单价\"],data[\"建筑面积\"]"
   ]
  },
  {
   "cell_type": "code",
   "execution_count": 7,
   "id": "3c89f659-ec8d-4fde-acfc-941cfd1b99c0",
   "metadata": {
    "execution": {
     "iopub.execute_input": "2024-09-13T03:31:34.107859Z",
     "iopub.status.busy": "2024-09-13T03:31:34.107320Z",
     "iopub.status.idle": "2024-09-13T03:31:34.116190Z",
     "shell.execute_reply": "2024-09-13T03:31:34.115350Z",
     "shell.execute_reply.started": "2024-09-13T03:31:34.107827Z"
    },
    "scrolled": true,
    "tags": []
   },
   "outputs": [],
   "source": [
    "y = data[\"总价\"]\r\n",
    "x1 = data[\"建筑面积\"].replace(\"㎡\",\"\",regex=True)\r\n",
    "x2 = data[\"单价\"]"
   ]
  },
  {
   "cell_type": "code",
   "execution_count": 8,
   "id": "3418549c-40ce-45e9-a8c7-144e17258829",
   "metadata": {
    "execution": {
     "iopub.execute_input": "2024-09-13T03:32:10.573721Z",
     "iopub.status.busy": "2024-09-13T03:32:10.572766Z",
     "iopub.status.idle": "2024-09-13T03:32:10.577551Z",
     "shell.execute_reply": "2024-09-13T03:32:10.576747Z",
     "shell.execute_reply.started": "2024-09-13T03:32:10.573683Z"
    },
    "scrolled": true
   },
   "outputs": [],
   "source": [
    "y = y.to_numpy()\r\n",
    "x1 = x1.to_numpy()\r\n",
    "x2 = x2.to_numpy()"
   ]
  },
  {
   "cell_type": "code",
   "execution_count": 9,
   "id": "a3d3b7aa-3387-4c96-89b5-b93c387ac6c4",
   "metadata": {
    "execution": {
     "iopub.execute_input": "2024-09-13T03:32:20.929368Z",
     "iopub.status.busy": "2024-09-13T03:32:20.928787Z",
     "iopub.status.idle": "2024-09-13T03:32:20.934486Z",
     "shell.execute_reply": "2024-09-13T03:32:20.933691Z",
     "shell.execute_reply.started": "2024-09-13T03:32:20.929333Z"
    },
    "scrolled": true
   },
   "outputs": [
    {
     "data": {
      "text/plain": [
       "((2120,), (2120,), (2120,))"
      ]
     },
     "execution_count": 9,
     "metadata": {},
     "output_type": "execute_result"
    }
   ],
   "source": [
    "y.shape,x1.shape,x2.shape"
   ]
  },
  {
   "cell_type": "code",
   "execution_count": 18,
   "id": "8517b266-0dbc-40b3-b749-39e2f2ca6ecf",
   "metadata": {
    "execution": {
     "iopub.execute_input": "2024-09-13T03:40:27.161623Z",
     "iopub.status.busy": "2024-09-13T03:40:27.161009Z",
     "iopub.status.idle": "2024-09-13T03:40:27.171232Z",
     "shell.execute_reply": "2024-09-13T03:40:27.170393Z",
     "shell.execute_reply.started": "2024-09-13T03:40:27.161591Z"
    },
    "scrolled": true,
    "tags": []
   },
   "outputs": [
    {
     "data": {
      "text/plain": [
       "array([[ 0.77923664],\n",
       "       [ 0.48495699],\n",
       "       [ 0.39315612],\n",
       "       ...,\n",
       "       [-0.21821294],\n",
       "       [ 0.77968609],\n",
       "       [-0.21147114]])"
      ]
     },
     "execution_count": 18,
     "metadata": {},
     "output_type": "execute_result"
    }
   ],
   "source": [
    "from sklearn.preprocessing import MinMaxScaler,StandardScaler\r\n",
    "sclaer = StandardScaler()\r\n",
    "sclaer.fit(x1.reshape((-1,1)))\r\n",
    "\r\n",
    "x = sclaer.transform(x1.reshape((-1,1)))\r\n",
    "x"
   ]
  },
  {
   "cell_type": "code",
   "execution_count": 19,
   "id": "9e686cd4-fee1-4278-bf20-31527bb1be5a",
   "metadata": {
    "execution": {
     "iopub.execute_input": "2024-09-13T03:41:23.404555Z",
     "iopub.status.busy": "2024-09-13T03:41:23.403929Z",
     "iopub.status.idle": "2024-09-13T03:41:23.492231Z",
     "shell.execute_reply": "2024-09-13T03:41:23.491232Z",
     "shell.execute_reply.started": "2024-09-13T03:41:23.404521Z"
    },
    "scrolled": true
   },
   "outputs": [
    {
     "data": {
      "text/plain": [
       "((1696, 1), (424, 1), (1696,), (424,))"
      ]
     },
     "execution_count": 19,
     "metadata": {},
     "output_type": "execute_result"
    }
   ],
   "source": [
    "from sklearn.model_selection import train_test_split\r\n",
    "train_x,test_x,train_y,test_y = train_test_split(x,y,test_size=0.2,random_state=0)\r\n",
    "train_x.shape,test_x.shape,train_y.shape,test_y.shape"
   ]
  },
  {
   "cell_type": "code",
   "execution_count": 20,
   "id": "9ff3a010-57ae-4b99-ae7f-778309d72a29",
   "metadata": {
    "execution": {
     "iopub.execute_input": "2024-09-13T03:41:49.607730Z",
     "iopub.status.busy": "2024-09-13T03:41:49.607190Z",
     "iopub.status.idle": "2024-09-13T03:41:49.629108Z",
     "shell.execute_reply": "2024-09-13T03:41:49.628175Z",
     "shell.execute_reply.started": "2024-09-13T03:41:49.607699Z"
    },
    "scrolled": true
   },
   "outputs": [
    {
     "data": {
      "text/plain": [
       "LinearRegression(copy_X=True, fit_intercept=True, n_jobs=None, normalize=False)"
      ]
     },
     "execution_count": 20,
     "metadata": {},
     "output_type": "execute_result"
    }
   ],
   "source": [
    "from sklearn.linear_model import LinearRegression\r\n",
    "\r\n",
    "model = LinearRegression()\r\n",
    "model.fit(train_x,train_y)"
   ]
  },
  {
   "cell_type": "code",
   "execution_count": 21,
   "id": "7779774e-1e4f-42d4-84bb-41a24aef9fb8",
   "metadata": {
    "execution": {
     "iopub.execute_input": "2024-09-13T03:42:24.361377Z",
     "iopub.status.busy": "2024-09-13T03:42:24.360794Z",
     "iopub.status.idle": "2024-09-13T03:42:24.368382Z",
     "shell.execute_reply": "2024-09-13T03:42:24.367520Z",
     "shell.execute_reply.started": "2024-09-13T03:42:24.361345Z"
    },
    "scrolled": true
   },
   "outputs": [
    {
     "data": {
      "text/plain": [
       "0.7093407108576809"
      ]
     },
     "execution_count": 21,
     "metadata": {},
     "output_type": "execute_result"
    }
   ],
   "source": [
    "model.score(test_x,test_y)"
   ]
  },
  {
   "cell_type": "markdown",
   "id": "7f1ae7c4-98fb-42d9-8ae0-e8cc89cd3d19",
   "metadata": {},
   "source": [
    "用两个特征"
   ]
  },
  {
   "cell_type": "code",
   "execution_count": 27,
   "id": "3f8c71e5-63ea-455c-b121-432eaf8fe078",
   "metadata": {
    "execution": {
     "iopub.execute_input": "2024-09-13T03:45:35.908630Z",
     "iopub.status.busy": "2024-09-13T03:45:35.907696Z",
     "iopub.status.idle": "2024-09-13T03:45:35.927630Z",
     "shell.execute_reply": "2024-09-13T03:45:35.926636Z",
     "shell.execute_reply.started": "2024-09-13T03:45:35.908594Z"
    },
    "scrolled": true,
    "tags": []
   },
   "outputs": [
    {
     "data": {
      "text/plain": [
       "array([[ 0.77923664, -1.19996902],\n",
       "       [ 0.48495699,  0.7627315 ],\n",
       "       [ 0.39315612,  0.34061791],\n",
       "       ...,\n",
       "       [-0.21821294,  0.2553016 ],\n",
       "       [ 0.77968609, -0.19819391],\n",
       "       [-0.21147114, -0.79062097]])"
      ]
     },
     "execution_count": 27,
     "metadata": {},
     "output_type": "execute_result"
    }
   ],
   "source": [
    "y = data[\"总价\"]\r\n",
    "x1 = data[[\"建筑面积\",\"单价\"]].replace(\"㎡\",\"\",regex=True)\r\n",
    "\r\n",
    "y = y.to_numpy()\r\n",
    "x1 = x1.to_numpy()\r\n",
    "from sklearn.preprocessing import MinMaxScaler,StandardScaler\r\n",
    "sclaer = StandardScaler()\r\n",
    "sclaer.fit(x1.reshape((-1,2)))\r\n",
    "\r\n",
    "x = sclaer.transform(x1.reshape((-1,2)))\r\n",
    "x"
   ]
  },
  {
   "cell_type": "code",
   "execution_count": 28,
   "id": "82bd2499-3e2c-4712-a442-7173b47bc8d8",
   "metadata": {
    "execution": {
     "iopub.execute_input": "2024-09-13T03:45:46.505143Z",
     "iopub.status.busy": "2024-09-13T03:45:46.504367Z",
     "iopub.status.idle": "2024-09-13T03:45:46.512329Z",
     "shell.execute_reply": "2024-09-13T03:45:46.511560Z",
     "shell.execute_reply.started": "2024-09-13T03:45:46.505090Z"
    },
    "scrolled": true,
    "tags": []
   },
   "outputs": [
    {
     "data": {
      "text/plain": [
       "((1696, 2), (424, 2), (1696,), (424,))"
      ]
     },
     "execution_count": 28,
     "metadata": {},
     "output_type": "execute_result"
    }
   ],
   "source": [
    "from sklearn.model_selection import train_test_split\r\n",
    "train_x,test_x,train_y,test_y = train_test_split(x,y,test_size=0.2,random_state=0)\r\n",
    "train_x.shape,test_x.shape,train_y.shape,test_y.shape"
   ]
  },
  {
   "cell_type": "code",
   "execution_count": 29,
   "id": "a76b8ce1-53cf-40d4-8388-8561ff8ded4c",
   "metadata": {
    "execution": {
     "iopub.execute_input": "2024-09-13T03:45:59.355804Z",
     "iopub.status.busy": "2024-09-13T03:45:59.355076Z",
     "iopub.status.idle": "2024-09-13T03:45:59.363531Z",
     "shell.execute_reply": "2024-09-13T03:45:59.362633Z",
     "shell.execute_reply.started": "2024-09-13T03:45:59.355768Z"
    },
    "scrolled": true
   },
   "outputs": [
    {
     "data": {
      "text/plain": [
       "LinearRegression(copy_X=True, fit_intercept=True, n_jobs=None, normalize=False)"
      ]
     },
     "execution_count": 29,
     "metadata": {},
     "output_type": "execute_result"
    }
   ],
   "source": [
    "from sklearn.linear_model import LinearRegression\r\n",
    "\r\n",
    "model = LinearRegression()\r\n",
    "model.fit(train_x,train_y)"
   ]
  },
  {
   "cell_type": "code",
   "execution_count": 30,
   "id": "8f963b09-5a0a-4b32-886a-07464c4963fe",
   "metadata": {
    "execution": {
     "iopub.execute_input": "2024-09-13T03:46:30.730052Z",
     "iopub.status.busy": "2024-09-13T03:46:30.729516Z",
     "iopub.status.idle": "2024-09-13T03:46:30.736854Z",
     "shell.execute_reply": "2024-09-13T03:46:30.735965Z",
     "shell.execute_reply.started": "2024-09-13T03:46:30.730020Z"
    },
    "scrolled": true
   },
   "outputs": [
    {
     "data": {
      "text/plain": [
       "0.915939862491297"
      ]
     },
     "execution_count": 30,
     "metadata": {},
     "output_type": "execute_result"
    }
   ],
   "source": [
    "model.score(test_x,test_y)"
   ]
  },
  {
   "cell_type": "code",
   "execution_count": null,
   "id": "bd5f05c9-f5a5-4f9c-a731-242618febb48",
   "metadata": {
    "scrolled": true
   },
   "outputs": [],
   "source": []
  }
 ],
 "metadata": {
  "kernelspec": {
   "display_name": "Python 3",
   "language": "python",
   "name": "py35-paddle1.2.0"
  },
  "language_info": {
   "codemirror_mode": {
    "name": "ipython",
    "version": 3
   },
   "file_extension": ".py",
   "mimetype": "text/x-python",
   "name": "python",
   "nbconvert_exporter": "python",
   "pygments_lexer": "ipython3",
   "version": "3.7.4"
  }
 },
 "nbformat": 4,
 "nbformat_minor": 5
}
